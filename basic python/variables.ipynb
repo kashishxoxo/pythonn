{
 "cells": [
  {
   "cell_type": "markdown",
   "metadata": {},
   "source": [
    "Type Function\n"
   ]
  },
  {
   "cell_type": "code",
   "execution_count": 3,
   "metadata": {},
   "outputs": [
    {
     "name": "stdout",
     "output_type": "stream",
     "text": [
      "<class 'int'>\n",
      "<class 'float'>\n",
      "<class 'str'>\n",
      "<class 'bool'>\n",
      "<class 'NoneType'>\n"
     ]
    }
   ],
   "source": [
    "a = 5\n",
    "b = 3.0\n",
    "c = \"Hello\"\n",
    "d = True\n",
    "e = None\n",
    "print(type(a))\n",
    "print(type(b))\n",
    "print(type(c))\n",
    "print(type(d))\n",
    "print(type(e))"
   ]
  },
  {
   "cell_type": "markdown",
   "metadata": {},
   "source": [
    "Type Casting"
   ]
  },
  {
   "cell_type": "code",
   "execution_count": 14,
   "metadata": {},
   "outputs": [
    {
     "name": "stdout",
     "output_type": "stream",
     "text": [
      "31.0\n",
      "31\n",
      "True\n",
      "True\n"
     ]
    }
   ],
   "source": [
    "a = 31\n",
    "b = float(a) # convert a to an float\n",
    "print(b)\n",
    "c = str(a) # convert a to a string\n",
    "print(c)\n",
    "d = bool(a) # convert a to a boolean\n",
    "print(d)\n",
    "e = \"hello\"\n",
    "f = bool(e) # convert e to a boolean\n",
    "print(f)\n",
    "\n"
   ]
  },
  {
   "cell_type": "markdown",
   "metadata": {},
   "source": [
    "Input Function :-   \n",
    " - Takes input from user\n",
    " - default value string \n"
   ]
  },
  {
   "cell_type": "code",
   "execution_count": 17,
   "metadata": {},
   "outputs": [
    {
     "name": "stdout",
     "output_type": "stream",
     "text": [
      "Hello kashish\n",
      "You entered 2\n"
     ]
    }
   ],
   "source": [
    "a = input(\"Enter your name\")\n",
    "print(\"Hello\", a)\n",
    "b = int(input(\"Enter a number\"))\n",
    "print(\"You entered\", b)"
   ]
  }
 ],
 "metadata": {
  "kernelspec": {
   "display_name": "Python 3",
   "language": "python",
   "name": "python3"
  },
  "language_info": {
   "codemirror_mode": {
    "name": "ipython",
    "version": 3
   },
   "file_extension": ".py",
   "mimetype": "text/x-python",
   "name": "python",
   "nbconvert_exporter": "python",
   "pygments_lexer": "ipython3",
   "version": "3.12.2"
  }
 },
 "nbformat": 4,
 "nbformat_minor": 2
}
