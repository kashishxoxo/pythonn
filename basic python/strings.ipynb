{
 "cells": [
  {
   "cell_type": "markdown",
   "metadata": {},
   "source": []
  },
  {
   "cell_type": "markdown",
   "metadata": {},
   "source": [
    "STRINGS :-\n",
    "- a sequence of character enclosed in codes\n",
    "- it is immutable which means it cannon be changed if you apply strings functions on them"
   ]
  },
  {
   "cell_type": "code",
   "execution_count": null,
   "metadata": {},
   "outputs": [
    {
     "name": "stdout",
     "output_type": "stream",
     "text": [
      "Kashish\n",
      "7\n"
     ]
    }
   ],
   "source": [
    "a = \"Kashish\"\n",
    "print(a)\n",
    "print(len(a)) #prints the length of the string"
   ]
  },
  {
   "cell_type": "markdown",
   "metadata": {},
   "source": [
    "String Slicing"
   ]
  },
  {
   "cell_type": "code",
   "execution_count": 12,
   "metadata": {},
   "outputs": [
    {
     "name": "stdout",
     "output_type": "stream",
     "text": [
      "Kashis\n",
      "K\n",
      "his\n",
      "Kashi\n",
      "ashish\n"
     ]
    }
   ],
   "source": [
    "name = \"Kashish\"\n",
    "print(name[0 : 6]) #prints the string from 0 to 6 (excluding 6)\n",
    "char = name[0]\n",
    "print(char)\n",
    "print(name[-4:-1]) #prints the string backwards\n",
    "print(name[:5])\n",
    "print(name[1:])"
   ]
  },
  {
   "cell_type": "markdown",
   "metadata": {},
   "source": []
  },
  {
   "cell_type": "code",
   "execution_count": 18,
   "metadata": {},
   "outputs": [
    {
     "name": "stdout",
     "output_type": "stream",
     "text": [
      "Ki\n",
      "Khh\n"
     ]
    }
   ],
   "source": [
    "name = \"Kashish\"\n",
    "print(name[0:7:4]) #prints the string from 0 to 6 with a step of 4\n",
    "print(name[::3])"
   ]
  },
  {
   "cell_type": "markdown",
   "metadata": {},
   "source": [
    "String Functions"
   ]
  },
  {
   "cell_type": "code",
   "execution_count": 33,
   "metadata": {},
   "outputs": [
    {
     "name": "stdout",
     "output_type": "stream",
     "text": [
      "12\n",
      "False\n",
      "False\n",
      " siddhartha \n",
      "5\n",
      " SIDDHARTHA \n",
      "Kashish And Siddhartha Are Best Friends\n",
      "siddhartha\n",
      "kakhikh and kiddhartha are bekt friendk\n"
     ]
    }
   ],
   "source": [
    "name = \" siddhartha \"\n",
    "name1 = \"kashish and siddhartha are best friends\"\n",
    "print(len(name))\n",
    "print(name.endswith(\"rtha\"))\n",
    "print(name.startswith(\"Sid\"))\n",
    "print(name.capitalize())\n",
    "print(name.find(\"ha\"))\n",
    "print(name.upper())\n",
    "print(name1.title())\n",
    "print(name.strip()) \n",
    "print(name1.replace(\"s\", \"k\"))\n"
   ]
  },
  {
   "cell_type": "code",
   "execution_count": null,
   "metadata": {},
   "outputs": [],
   "source": []
  }
 ],
 "metadata": {
  "kernelspec": {
   "display_name": "Python 3",
   "language": "python",
   "name": "python3"
  },
  "language_info": {
   "codemirror_mode": {
    "name": "ipython",
    "version": 3
   },
   "file_extension": ".py",
   "mimetype": "text/x-python",
   "name": "python",
   "nbconvert_exporter": "python",
   "pygments_lexer": "ipython3",
   "version": "3.12.2"
  }
 },
 "nbformat": 4,
 "nbformat_minor": 2
}
