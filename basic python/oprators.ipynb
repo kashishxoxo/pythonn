{
 "cells": [
  {
   "cell_type": "markdown",
   "metadata": {},
   "source": [
    "Arithmetic Operators"
   ]
  },
  {
   "cell_type": "code",
   "execution_count": 2,
   "metadata": {},
   "outputs": [
    {
     "name": "stdout",
     "output_type": "stream",
     "text": [
      "5\n",
      "1\n",
      "6\n",
      "1.5\n",
      "1\n",
      "1\n",
      "9\n"
     ]
    }
   ],
   "source": [
    "a = 3\n",
    "c = 2\n",
    "print(a + c)\n",
    "print(a - c)\n",
    "print(a * c)\n",
    "print(a / c)\n",
    "print(a // c)\n",
    "print(a % c)\n",
    "print(a ** c)"
   ]
  },
  {
   "cell_type": "markdown",
   "metadata": {},
   "source": [
    "Assignment Operator"
   ]
  },
  {
   "cell_type": "code",
   "execution_count": 4,
   "metadata": {},
   "outputs": [
    {
     "name": "stdout",
     "output_type": "stream",
     "text": [
      "2\n",
      "3.0\n",
      "3.0\n",
      "3.0\n",
      "3.0\n",
      "2\n"
     ]
    }
   ],
   "source": [
    "a = 4-2\n",
    "c = 2\n",
    "b = 3\n",
    "b += 3\n",
    "b -= 3\n",
    "b *= 3\n",
    "b /= 3\n",
    "print(a)\n",
    "print(b)\n",
    "print(b)\n",
    "print(b)\n",
    "print(b)\n",
    "print(c)"
   ]
  },
  {
   "cell_type": "markdown",
   "metadata": {},
   "source": [
    "Comparison Operators\n"
   ]
  },
  {
   "cell_type": "code",
   "execution_count": 5,
   "metadata": {},
   "outputs": [
    {
     "name": "stdout",
     "output_type": "stream",
     "text": [
      "True\n",
      "False\n",
      "False\n",
      "True\n"
     ]
    }
   ],
   "source": [
    "a = 5 > 3\n",
    "b = 5 < 3\n",
    "c = 5 == 3\n",
    "d = 5 != 3\n",
    "print(a)\n",
    "print(b)\n",
    "print(c)    \n",
    "print(d)"
   ]
  },
  {
   "cell_type": "markdown",
   "metadata": {},
   "source": [
    "Logical Operators"
   ]
  },
  {
   "cell_type": "code",
   "execution_count": null,
   "metadata": {},
   "outputs": [
    {
     "name": "stdout",
     "output_type": "stream",
     "text": [
      "a is greater than b\n"
     ]
    }
   ],
   "source": [
    "a = 5\n",
    "b = 3\n",
    "if a > b and a == 5:\n",
    "    print(\"a is greater than b\")\n",
    "else:\n",
    "    print(\"a is not greater than b\")"
   ]
  },
  {
   "cell_type": "code",
   "execution_count": null,
   "metadata": {},
   "outputs": [],
   "source": []
  }
 ],
 "metadata": {
  "kernelspec": {
   "display_name": "Python 3",
   "language": "python",
   "name": "python3"
  },
  "language_info": {
   "codemirror_mode": {
    "name": "ipython",
    "version": 3
   },
   "file_extension": ".py",
   "mimetype": "text/x-python",
   "name": "python",
   "nbconvert_exporter": "python",
   "pygments_lexer": "ipython3",
   "version": "3.12.2"
  }
 },
 "nbformat": 4,
 "nbformat_minor": 2
}
