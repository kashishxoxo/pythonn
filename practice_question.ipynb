{
 "cells": [
  {
   "cell_type": "code",
   "execution_count": null,
   "metadata": {},
   "outputs": [
    {
     "name": "stdout",
     "output_type": "stream",
     "text": [
      "Wow! 4 is an amazing number\n"
     ]
    }
   ],
   "source": [
    "num = int(input(\"Enter your fav number\"))\n",
    "print(f\"Wow! {num} is an amazing number\")\n",
    "\n"
   ]
  },
  {
   "cell_type": "code",
   "execution_count": null,
   "metadata": {},
   "outputs": [
    {
     "name": "stdout",
     "output_type": "stream",
     "text": [
      "The square of 4 is 16\n"
     ]
    }
   ],
   "source": [
    "num = int(input(\"Enter the number:\"))\n",
    "sq = num * num\n",
    "print(f\"The square of {num} is\" , sq)"
   ]
  },
  {
   "cell_type": "code",
   "execution_count": null,
   "metadata": {},
   "outputs": [
    {
     "name": "stdout",
     "output_type": "stream",
     "text": [
      "Hi, I am Kashish Srivastava.This is my friend Siddhartha Singhal and we both love Ramen & Fruits\n"
     ]
    }
   ],
   "source": [
    "my_name = \"Kashish Srivastava\" \n",
    "friend_name = \"Siddhartha Singhal\"\n",
    "fav_food1 = \"Ramen\"\n",
    "fav_food2 = \"Fruits\"\n",
    "print(f\"Hi, I am {my_name}.This is my friend {friend_name} and we both love {fav_food1} & {fav_food2}\")"
   ]
  },
  {
   "cell_type": "code",
   "execution_count": null,
   "metadata": {},
   "outputs": [
    {
     "name": "stdout",
     "output_type": "stream",
     "text": [
      "The given character is vowel\n"
     ]
    }
   ],
   "source": [
    "char = input(\"Enter the character\")\n",
    "if char == \"aeiou\" or \"AEIOU\" :\n",
    "    print(\"The given character is vowel\")\n",
    "else:\n",
    "    print(\"The given character is consonent\")"
   ]
  },
  {
   "cell_type": "code",
   "execution_count": null,
   "metadata": {},
   "outputs": [
    {
     "name": "stdout",
     "output_type": "stream",
     "text": [
      "The sum of 3 and 5 is 8\n"
     ]
    }
   ],
   "source": [
    "num1 = int(input(\"Enter the first number\"))\n",
    "num2 = int(input(\"Enter the  second number\"))\n",
    "sum = num1 + num2\n",
    "print(f\"The sum of {num1} and {num2} is {sum}\")"
   ]
  },
  {
   "cell_type": "code",
   "execution_count": null,
   "metadata": {},
   "outputs": [
    {
     "name": "stdout",
     "output_type": "stream",
     "text": [
      "The total sum is 25\n",
      "The average of five subjects is 0.5\n"
     ]
    }
   ],
   "source": [
    "sub1 = int(input(\"Enter the marks of the first subject\"))\n",
    "sub2 = int(input(\"Enter the marks of the second subject\"))\n",
    "sub3 = int(input(\"Enter the marks of the third subject\"))\n",
    "sub4 = int(input(\"Enter the marks of the fourth subject\"))\n",
    "sub5 = int(input(\"Enter the marks of the five subject\"))\n",
    "total_marks = int(input(\"Enter the  total marks of the five subject\"))\n",
    "total_sum = sub1 + sub2 + sub3 + sub4 + sub5\n",
    "print(\"The total sum is\" , total_sum)\n",
    "avg = (sub1 + sub2 + sub3 + sub4 + sub5)/total_marks\n",
    "print(\"The average of five subjects is\" , avg)"
   ]
  },
  {
   "cell_type": "code",
   "execution_count": null,
   "metadata": {},
   "outputs": [
    {
     "name": "stdout",
     "output_type": "stream",
     "text": [
      "2\n",
      "4\n",
      "6\n",
      "8\n",
      "10\n",
      "12\n",
      "14\n",
      "16\n",
      "18\n",
      "20\n",
      "22\n",
      "24\n",
      "26\n",
      "28\n",
      "30\n",
      "32\n",
      "34\n",
      "36\n",
      "38\n",
      "40\n",
      "42\n",
      "44\n",
      "46\n",
      "48\n",
      "50\n"
     ]
    }
   ],
   "source": [
    "for i in range (1, 51):\n",
    "  if i % 2 == 0:\n",
    "    print(i)"
   ]
  },
  {
   "cell_type": "code",
   "execution_count": null,
   "metadata": {},
   "outputs": [
    {
     "name": "stdout",
     "output_type": "stream",
     "text": [
      "18 is the largest number\n"
     ]
    }
   ],
   "source": [
    "num1 = int(input(\"Enter the first number\"))\n",
    "num2 = int(input(\"Enter the second number\"))\n",
    "num3 = int(input(\"Enter the third number\"))\n",
    "if num1 > num2 and num1 > num3:\n",
    "    print(f\"{num1} is the largest number\")\n",
    "elif num2 > num3 and num2 > num1:\n",
    "    print(f\"{num2} is the largest number\")\n",
    "else:\n",
    "    print(f\"{num3} is the largest number\")\n",
    "    \n",
    "    "
   ]
  },
  {
   "cell_type": "code",
   "execution_count": null,
   "metadata": {},
   "outputs": [
    {
     "name": "stdout",
     "output_type": "stream",
     "text": [
      "The area of triangle is : 3.0\n"
     ]
    }
   ],
   "source": [
    "height = float(input(\"Enter the height:\"))\n",
    "base = float(input(\"Enter the base:\"))\n",
    "area = 0.5 * base * height\n",
    "print(f\"The area of triangle is :\" , area)"
   ]
  },
  {
   "cell_type": "code",
   "execution_count": null,
   "metadata": {},
   "outputs": [
    {
     "name": "stdout",
     "output_type": "stream",
     "text": [
      "avatsavirS hsihsaK si eman yM\n"
     ]
    }
   ],
   "source": [
    "str = \"My name is Kashish Srivastava\"\n",
    "print(str[::-1])"
   ]
  },
  {
   "cell_type": "code",
   "execution_count": 62,
   "metadata": {},
   "outputs": [
    {
     "name": "stdout",
     "output_type": "stream",
     "text": [
      "1\n",
      "2\n",
      "3\n",
      "4\n",
      "5\n",
      "6\n",
      "7\n",
      "8\n",
      "9\n",
      "10\n"
     ]
    }
   ],
   "source": [
    "#For Loop\n",
    "for i in range (1 , 11):\n",
    " print(i)\n",
    " \n",
    " #While Loop"
   ]
  },
  {
   "cell_type": "code",
   "execution_count": 63,
   "metadata": {},
   "outputs": [
    {
     "name": "stdout",
     "output_type": "stream",
     "text": [
      "1\n",
      "2\n",
      "3\n",
      "4\n",
      "5\n",
      "6\n",
      "7\n",
      "8\n",
      "9\n",
      "10\n"
     ]
    }
   ],
   "source": [
    "#While Loop\n",
    "i = 1\n",
    "while i <= 10:\n",
    "    print(i)\n",
    "    i += 1"
   ]
  },
  {
   "cell_type": "code",
   "execution_count": 64,
   "metadata": {},
   "outputs": [
    {
     "name": "stdout",
     "output_type": "stream",
     "text": [
      "I AM THE BEST\n",
      "I AM THE BEST\n",
      "I AM THE BEST\n",
      "I AM THE BEST\n",
      "I AM THE BEST\n",
      "I AM THE BEST\n",
      "I AM THE BEST\n",
      "I AM THE BEST\n",
      "I AM THE BEST\n",
      "I AM THE BEST\n"
     ]
    }
   ],
   "source": [
    "str = \"I AM THE BEST\"\n",
    "for i in range (1 , 11):\n",
    "    print(str)"
   ]
  },
  {
   "cell_type": "code",
   "execution_count": 71,
   "metadata": {},
   "outputs": [
    {
     "name": "stdout",
     "output_type": "stream",
     "text": [
      "The sum of numbers from 1 to 100 is: 5050\n"
     ]
    }
   ],
   "source": [
    "num = 1\n",
    "total = 0\n",
    "while num <= 100:\n",
    "    total += num\n",
    "    num += 1\n",
    "print(\"The sum of numbers from 1 to 100 is:\", total)\n"
   ]
  },
  {
   "cell_type": "code",
   "execution_count": 73,
   "metadata": {},
   "outputs": [
    {
     "name": "stdout",
     "output_type": "stream",
     "text": [
      "2\n",
      "4\n",
      "6\n",
      "8\n",
      "10\n",
      "12\n",
      "14\n",
      "16\n",
      "18\n",
      "20\n"
     ]
    }
   ],
   "source": [
    "num = int(input (\"Enter the number\"))\n",
    "for i in range (1 , 11):\n",
    "    print (num * i)"
   ]
  },
  {
   "cell_type": "code",
   "execution_count": 80,
   "metadata": {},
   "outputs": [
    {
     "name": "stdout",
     "output_type": "stream",
     "text": [
      "24\n"
     ]
    }
   ],
   "source": [
    "num1 = int(input (\"Enter the number\"))\n",
    "fact = 1\n",
    "for i in range (1 , num+1):\n",
    "    fact = fact * i\n",
    "print(fact)"
   ]
  },
  {
   "cell_type": "code",
   "execution_count": 81,
   "metadata": {},
   "outputs": [
    {
     "name": "stdout",
     "output_type": "stream",
     "text": [
      "Fail\n"
     ]
    }
   ],
   "source": [
    "marks = int(input(\"Enter the marks of the user out of 100\"))\n",
    "if marks >= 90:\n",
    "  print(\"Grade A\")\n",
    "elif marks >= 75 and marks <90:\n",
    " print(\"Grade B\")\n",
    "elif marks >= 50 and marks < 75:\n",
    "    print(\"Grade C\")\n",
    "else:\n",
    "    print(\"Fail\")\n",
    "    "
   ]
  },
  {
   "cell_type": "code",
   "execution_count": 82,
   "metadata": {},
   "outputs": [
    {
     "name": "stdout",
     "output_type": "stream",
     "text": [
      "The number is zero\n"
     ]
    }
   ],
   "source": [
    "num = int(input(\"Enter the number\"))\n",
    "if num > 0:\n",
    "    print(\"The number is positive\")\n",
    "elif num < 0:\n",
    "    print(\"The number is negative\")\n",
    "else:\n",
    "    print(\"The number is zero\")"
   ]
  },
  {
   "cell_type": "code",
   "execution_count": 84,
   "metadata": {},
   "outputs": [
    {
     "name": "stdout",
     "output_type": "stream",
     "text": [
      "The year is a leap year\n"
     ]
    }
   ],
   "source": [
    "leap_year = int(input(\"Enter the year\"))\n",
    "if (leap_year % 4 == 0 and leap_year % 100 !=0) or (leap_year % 400 == 0):\n",
    "    print(\"The year is a leap year\")\n",
    "else:\n",
    "    print(\"The year is not a leap year\")"
   ]
  },
  {
   "cell_type": "code",
   "execution_count": 86,
   "metadata": {},
   "outputs": [
    {
     "name": "stdout",
     "output_type": "stream",
     "text": [
      "Registration successful\n"
     ]
    }
   ],
   "source": [
    "name = input(\"Enter your name :\")\n",
    "email = input(\"Enter your nemail :\")\n",
    "phone = input(\"Enter your phone:\")\n",
    "address = input(\"Enter your address:\")\n",
    "password = input(\"Enter your password :\")\n",
    "if len(name) > 1 and len(name) < 15:\n",
    "    if \"@\" in email and len(email) < 15:\n",
    "        if len(phone) == 10:\n",
    "            if len(address) > 1 and len(address) < 50:\n",
    "                if len(password) > 8:\n",
    "                    print(\"Registration successful\")\n",
    "                else: \n",
    "                    print(\"Password should be more than 8 characters\")\n",
    "            else:\n",
    "                print(\"Wrong adresss\")\n",
    "        else:\n",
    "            print(\"Wrong phone number\")\n",
    "    else:\n",
    "        print(\"Wrong email\")\n",
    "else:\n",
    "    print(\"Wrong name\")"
   ]
  },
  {
   "cell_type": "code",
   "execution_count": null,
   "metadata": {},
   "outputs": [],
   "source": []
  }
 ],
 "metadata": {
  "kernelspec": {
   "display_name": "Python 3",
   "language": "python",
   "name": "python3"
  },
  "language_info": {
   "codemirror_mode": {
    "name": "ipython",
    "version": 3
   },
   "file_extension": ".py",
   "mimetype": "text/x-python",
   "name": "python",
   "nbconvert_exporter": "python",
   "pygments_lexer": "ipython3",
   "version": "3.12.2"
  }
 },
 "nbformat": 4,
 "nbformat_minor": 2
}
