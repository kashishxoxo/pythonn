{
 "cells": [
  {
   "cell_type": "markdown",
   "metadata": {},
   "source": [
    "Conditional Expression are of four types\n",
    "- if\n",
    "- if - else\n",
    "- elif\n",
    "- nested if"
   ]
  },
  {
   "cell_type": "code",
   "execution_count": null,
   "metadata": {},
   "outputs": [],
   "source": [
    "a = 1\n",
    "if a > 2 :\n",
    "    print(\"a\")\n",
    "    print (\"b\")\n",
    "print(\"c\")"
   ]
  },
  {
   "cell_type": "code",
   "execution_count": 2,
   "metadata": {},
   "outputs": [
    {
     "name": "stdout",
     "output_type": "stream",
     "text": [
      "Grade: B\n",
      "Grade: C\n"
     ]
    }
   ],
   "source": [
    "marks = 87\n",
    "if marks >= 90:\n",
    "    print(\"Grade: A\")\n",
    "if marks >= 75:\n",
    "    print(\"Grade: B\")\n",
    "if marks >= 60:\n",
    "    print(\"Grade: C\")\n",
    "if marks <=50:\n",
    "    print(\"Grade: D\")"
   ]
  },
  {
   "cell_type": "code",
   "execution_count": 3,
   "metadata": {},
   "outputs": [
    {
     "name": "stdout",
     "output_type": "stream",
     "text": [
      "You can't enter a negative age\n"
     ]
    }
   ],
   "source": [
    "age = int(input(\"Enter your age: \"))\n",
    "if age > 18:\n",
    "    print(\"You are eligible\")\n",
    "elif age < 0:\n",
    "    print(\"You can't enter a negative age\")\n",
    "elif age ==0:\n",
    "    print(\"The age can nob be zero\")\n",
    "else:\n",
    "    (\"You are not Eligible\")"
   ]
  },
  {
   "cell_type": "code",
   "execution_count": 2,
   "metadata": {},
   "outputs": [
    {
     "name": "stdout",
     "output_type": "stream",
     "text": [
      "Grade: B\n"
     ]
    }
   ],
   "source": [
    "marks = 80\n",
    "if marks >= 90:\n",
    "    print(\"Grade: A\")\n",
    "elif marks >= 75:\n",
    "    print(\"Grade: B\")\n",
    "elif marks <= 60:\n",
    "    print(\"Grade: C\")\n",
    "else :\n",
    "    print(\"Grade: D\")"
   ]
  },
  {
   "cell_type": "code",
   "execution_count": 4,
   "metadata": {},
   "outputs": [
    {
     "name": "stdout",
     "output_type": "stream",
     "text": [
      "eligible\n"
     ]
    }
   ],
   "source": [
    "age = 23\n",
    "if age >= 18:\n",
    "    print(\"eligible\")\n",
    "else :\n",
    "    print(\"not\")"
   ]
  },
  {
   "cell_type": "code",
   "execution_count": 5,
   "metadata": {},
   "outputs": [
    {
     "ename": "ValueError",
     "evalue": "invalid literal for int() with base 10: 'y'",
     "output_type": "error",
     "traceback": [
      "\u001b[0;31m---------------------------------------------------------------------------\u001b[0m",
      "\u001b[0;31mValueError\u001b[0m                                Traceback (most recent call last)",
      "Cell \u001b[0;32mIn[5], line 1\u001b[0m\n\u001b[0;32m----> 1\u001b[0m posnum \u001b[38;5;241m=\u001b[39m \u001b[38;5;28mint\u001b[39m(\u001b[38;5;28minput\u001b[39m(\u001b[38;5;124m\"\u001b[39m\u001b[38;5;124mEnter a number :\u001b[39m\u001b[38;5;124m\"\u001b[39m))\n\u001b[1;32m      2\u001b[0m \u001b[38;5;28;01mif\u001b[39;00m posnum \u001b[38;5;241m>\u001b[39m\u001b[38;5;241m=\u001b[39m \u001b[38;5;241m0\u001b[39m:\n\u001b[1;32m      3\u001b[0m     \u001b[38;5;28mprint\u001b[39m(\u001b[38;5;124m\"\u001b[39m\u001b[38;5;124mThe number is positive\u001b[39m\u001b[38;5;124m\"\u001b[39m)\n",
      "\u001b[0;31mValueError\u001b[0m: invalid literal for int() with base 10: 'y'"
     ]
    }
   ],
   "source": [
    "posnum = int(input(\"Enter a number :\"))\n",
    "if posnum >= 0:\n",
    "    print(\"The number is positive\")\n",
    "else :\n",
    "    print(\"The number is negative\")"
   ]
  },
  {
   "cell_type": "code",
   "execution_count": null,
   "metadata": {},
   "outputs": [
    {
     "name": "stdout",
     "output_type": "stream",
     "text": [
      "The number is odd\n"
     ]
    }
   ],
   "source": [
    "evenodd = int(input(\"Enter a number :\"))\n",
    "if evenodd % 2 == 0:\n",
    "    print(\"The number is even\")\n",
    "else :\n",
    "    print(\"The number is odd\")"
   ]
  },
  {
   "cell_type": "code",
   "execution_count": null,
   "metadata": {},
   "outputs": [
    {
     "name": "stdout",
     "output_type": "stream",
     "text": [
      "This is an equilateral triangle\n"
     ]
    }
   ],
   "source": [
    "angle1 = int(input(\"Enter the angle\"))\n",
    "angle2 = int(input(\"Enter the angle\"))\n",
    "angle3 = int(input(\"Enter the angle\"))\n",
    "if angle1 + angle2 + angle3 == 180:\n",
    "    print (\"This is an equilateral triangle\")\n",
    "elif angle1 == angle2 or angle2 == angle3 or angle3 == angle1 :\n",
    "    print (\"The traingle is isoceles\")\n",
    "else:\n",
    "    print(\"The triangle is scalene\")\n"
   ]
  },
  {
   "cell_type": "code",
   "execution_count": null,
   "metadata": {},
   "outputs": [
    {
     "name": "stdout",
     "output_type": "stream",
     "text": [
      "The character is a vowel\n"
     ]
    }
   ],
   "source": [
    "vowel = input(\"Enter the character\")\n",
    "if vowel in \"aeiou\" or \"AEIOU\":\n",
    "    print(\"The character is a vowel\")\n",
    "else:\n",
    "    print (\"not a vowel\")   "
   ]
  },
  {
   "cell_type": "code",
   "execution_count": null,
   "metadata": {},
   "outputs": [
    {
     "name": "stdout",
     "output_type": "stream",
     "text": [
      "Net Salary: 230.0\n"
     ]
    }
   ],
   "source": [
    "basic_salary = float(input(\"Enter the basic salary: \"))\n",
    "\n",
    "\n",
    "tda = (10 / 100) * basic_salary  \n",
    "hra = (5 / 100) * basic_salary  \n",
    " \n",
    "\n",
    "net_salary = basic_salary + tda + hra\n",
    "\n",
    "\n",
    "print(\"Net Salary:\", net_salary)\n",
    " "
   ]
  },
  {
   "cell_type": "code",
   "execution_count": null,
   "metadata": {},
   "outputs": [
    {
     "name": "stdout",
     "output_type": "stream",
     "text": [
      "The area of cicle is  314.0\n"
     ]
    }
   ],
   "source": [
    "radius = float(input(\"Enter the radius\") )\n",
    "area = 3.14 * radius * radius\n",
    "print(\"The area of cicle is \" , area)"
   ]
  },
  {
   "cell_type": "code",
   "execution_count": null,
   "metadata": {},
   "outputs": [
    {
     "name": "stdout",
     "output_type": "stream",
     "text": [
      "The number is prime\n"
     ]
    }
   ],
   "source": [
    "primeno = int(input(\"Enter the number\"))\n",
    "if primeno % 1 & primeno % primeno == 0 :\n",
    "    print(\"The number is prime\")\n",
    "else :\n",
    "    print(\"The number is not prime\")"
   ]
  },
  {
   "cell_type": "code",
   "execution_count": null,
   "metadata": {},
   "outputs": [
    {
     "name": "stdout",
     "output_type": "stream",
     "text": [
      "It's a palindrome!\n"
     ]
    }
   ],
   "source": [
    "num = int(input(\"Enter the number: \"))  \n",
    "original_num = num  \n",
    "reverse = 0  \n",
    "while num > 0:\n",
    "    digit = num % 10  \n",
    "    reverse = reverse * 10 + digit \n",
    "    num = num // 10  \n",
    "if original_num == reverse:\n",
    "    print(\"It's a palindrome!\")\n",
    "else:\n",
    "    print(\"Not a palindrome.\")\n",
    "\n",
    "\n"
   ]
  },
  {
   "cell_type": "code",
   "execution_count": null,
   "metadata": {},
   "outputs": [
    {
     "name": "stdout",
     "output_type": "stream",
     "text": [
      "It's an Armstrong number!\n"
     ]
    }
   ],
   "source": [
    "num = int(input(\"Enter a number: \"))  \n",
    "sum = 0\n",
    "temp = num\n",
    "while temp > 0:\n",
    "    digit = temp % 10  \n",
    "    sum = sum + digit ** 3  \n",
    "    temp //= 10  \n",
    "if num == sum:\n",
    "    print(\"It's an Armstrong number!\")\n",
    "else:\n",
    "    print(\"Not an Armstrong number.\")\n"
   ]
  },
  {
   "cell_type": "code",
   "execution_count": null,
   "metadata": {},
   "outputs": [
    {
     "name": "stdout",
     "output_type": "stream",
     "text": [
      "invalid email\n"
     ]
    }
   ],
   "source": [
    "username = input(\"Enter your username\")\n",
    "email    = input(\"Enter your email\")\n",
    "phone_no = input(\"Enter your phone no\")\n",
    "password = input(\"Enter your passcode\")\n",
    "if len(username) > 5 and len(username) < 15 :\n",
    "    if '@' in email and len(email) > 11 :\n",
    "        if len(phone_no) > 0 and len(phone_no) == 10 :\n",
    "            if len(password) > 5 and len(password) < 15 :\n",
    "                print(\"Hurray , resgistration confirmed\")\n",
    "            else :\n",
    "                print(\"Registration not done\")\n",
    "        else :\n",
    "            print(\"invalid phone_no\")\n",
    "    else:\n",
    "        print(\"invalid email\")\n",
    "else:\n",
    "    print(\"invalid username\")\n",
    "                "
   ]
  },
  {
   "cell_type": "code",
   "execution_count": null,
   "metadata": {},
   "outputs": [],
   "source": []
  },
  {
   "cell_type": "code",
   "execution_count": null,
   "metadata": {},
   "outputs": [],
   "source": []
  },
  {
   "cell_type": "code",
   "execution_count": null,
   "metadata": {},
   "outputs": [],
   "source": []
  }
 ],
 "metadata": {
  "kernelspec": {
   "display_name": "base",
   "language": "python",
   "name": "python3"
  },
  "language_info": {
   "codemirror_mode": {
    "name": "ipython",
    "version": 3
   },
   "file_extension": ".py",
   "mimetype": "text/x-python",
   "name": "python",
   "nbconvert_exporter": "python",
   "pygments_lexer": "ipython3",
   "version": "3.12.4"
  }
 },
 "nbformat": 4,
 "nbformat_minor": 2
}
