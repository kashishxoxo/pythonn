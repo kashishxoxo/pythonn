{
 "cells": [
  {
   "cell_type": "markdown",
   "metadata": {},
   "source": [
    "Write a program to store seven fruits in a list entered by the user"
   ]
  },
  {
   "cell_type": "code",
   "execution_count": 2,
   "metadata": {},
   "outputs": [
    {
     "name": "stdout",
     "output_type": "stream",
     "text": [
      "['kiwi', 'apple', 'orange', 'grapes', 'banana', 'guava', 'mango']\n"
     ]
    }
   ],
   "source": [
    "fruits = []\n",
    "f1 = input(\"Enter the name of the fruit :\")\n",
    "fruits.append(f1)\n",
    "f2 = input(\"Enter the name of the fruit :\")\n",
    "fruits.append(f2)\n",
    "f3 = input(\"Enter the name of the fruit :\")\n",
    "fruits.append(f3)\n",
    "f4 = input(\"Enter the name of the fruit :\")\n",
    "fruits.append(f4)\n",
    "f5 = input(\"Enter the name of the fruit :\")\n",
    "fruits.append(f5)\n",
    "f6 = input(\"Enter the name of the fruit :\")\n",
    "fruits.append(f6)\n",
    "f7 = input(\"Enter the name of the fruit :\")\n",
    "fruits.append(f7)\n",
    "print(fruits)"
   ]
  },
  {
   "cell_type": "markdown",
   "metadata": {},
   "source": [
    "Write a program to accept marks of 6 students and display them in a sorted\n",
    "manner"
   ]
  },
  {
   "cell_type": "code",
   "execution_count": 7,
   "metadata": {},
   "outputs": [
    {
     "name": "stdout",
     "output_type": "stream",
     "text": [
      "[10, 20, 40, 70, 80, 90]\n"
     ]
    }
   ],
   "source": [
    "marks = []\n",
    "m1 = int(input (\"Enter the marks\"))\n",
    "marks.append(m1)\n",
    "m2 = int(input (\"Enter the marks\"))\n",
    "marks.append(m2)\n",
    "m3 = int(input (\"Enter the marks\"))\n",
    "marks.append(m3)\n",
    "m4 = int(input (\"Enter the marks\"))\n",
    "marks.append(m4)\n",
    "m5 = int(input (\"Enter the marks\"))\n",
    "marks.append(m5)\n",
    "m6 = int(input (\"Enter the marks\"))\n",
    "marks.append(m6)\n",
    "marks.sort()\n",
    "print(marks)"
   ]
  },
  {
   "cell_type": "markdown",
   "metadata": {},
   "source": [
    "Write a program to sum a list with 4 numbers."
   ]
  },
  {
   "cell_type": "code",
   "execution_count": 1,
   "metadata": {},
   "outputs": [
    {
     "name": "stdout",
     "output_type": "stream",
     "text": [
      "296\n"
     ]
    }
   ],
   "source": [
    "list1 = [68,90,78,60]\n",
    "print(sum(list1))"
   ]
  },
  {
   "cell_type": "markdown",
   "metadata": {},
   "source": [
    "Write a program to count the number of zeros in the following tuple:\n",
    "a = (7, 0, 8, 0, 0, 9)"
   ]
  },
  {
   "cell_type": "code",
   "execution_count": 1,
   "metadata": {},
   "outputs": [
    {
     "name": "stdout",
     "output_type": "stream",
     "text": [
      "3\n"
     ]
    }
   ],
   "source": [
    "a = (7, 0, 8, 0, 0, 9)\n",
    "c = a.count(0)\n",
    "print(c)"
   ]
  },
  {
   "cell_type": "markdown",
   "metadata": {},
   "source": []
  }
 ],
 "metadata": {
  "kernelspec": {
   "display_name": "Python 3",
   "language": "python",
   "name": "python3"
  },
  "language_info": {
   "codemirror_mode": {
    "name": "ipython",
    "version": 3
   },
   "file_extension": ".py",
   "mimetype": "text/x-python",
   "name": "python",
   "nbconvert_exporter": "python",
   "pygments_lexer": "ipython3",
   "version": "3.12.2"
  }
 },
 "nbformat": 4,
 "nbformat_minor": 2
}
