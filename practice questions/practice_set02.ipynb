{
 "cells": [
  {
   "cell_type": "markdown",
   "metadata": {},
   "source": [
    "Write a python program to display a user entered name followed by Good\n",
    "Afternoon using input () function\n"
   ]
  },
  {
   "cell_type": "code",
   "execution_count": 2,
   "metadata": {},
   "outputs": [
    {
     "name": "stdout",
     "output_type": "stream",
     "text": [
      "Good Afternoon kashish\n"
     ]
    }
   ],
   "source": [
    "name = input(\"Enter the name :\")\n",
    "print(f\"Good Afternoon {name}\")"
   ]
  },
  {
   "cell_type": "markdown",
   "metadata": {},
   "source": [
    "\n",
    "'''Write a program to fill in a letter template given below with name and date.\n",
    "letter = '''\n",
    "Dear <|Name|>,\n",
    "You are selected!\n",
    "<|Date|>"
   ]
  },
  {
   "cell_type": "code",
   "execution_count": 8,
   "metadata": {},
   "outputs": [
    {
     "name": "stdout",
     "output_type": "stream",
     "text": [
      "\n",
      "Dear Kashish,\n",
      "You are selected!\n",
      "12-12-2020\n",
      "\n"
     ]
    }
   ],
   "source": [
    "letter = '''\n",
    "Dear <|Name|>,\n",
    "You are selected!\n",
    "<|Date|>\n",
    "'''\n",
    "print(letter.replace(\"<|Name|>\",'Kashish').replace(\"<|Date|>\", \"12-12-2020\"))"
   ]
  },
  {
   "cell_type": "markdown",
   "metadata": {},
   "source": []
  },
  {
   "cell_type": "markdown",
   "metadata": {},
   "source": [
    "Write a program to detect double space in a string."
   ]
  },
  {
   "cell_type": "code",
   "execution_count": 22,
   "metadata": {},
   "outputs": [
    {
     "name": "stdout",
     "output_type": "stream",
     "text": [
      "0\n",
      "10\n",
      "13\n"
     ]
    }
   ],
   "source": [
    "str = \"kashdobrev is my instagram username\"\n",
    "str2 = \"kashdobrev is   my instagram username\"\n",
    "print(str.find(\"\"))\n",
    "print(str.find(\" \"))\n",
    "print(str2.find(\"   \"))"
   ]
  },
  {
   "cell_type": "markdown",
   "metadata": {},
   "source": [
    "Replace the double space from problem 3 with single spaces"
   ]
  },
  {
   "cell_type": "code",
   "execution_count": 26,
   "metadata": {},
   "outputs": [
    {
     "name": "stdout",
     "output_type": "stream",
     "text": [
      "kashdobrev is my instagram username\n"
     ]
    }
   ],
   "source": [
    "str = \"kashdobrev is my  instagram username\"\n",
    "print(str.replace(\"  \", \" \"))"
   ]
  },
  {
   "cell_type": "code",
   "execution_count": null,
   "metadata": {},
   "outputs": [],
   "source": []
  },
  {
   "cell_type": "code",
   "execution_count": null,
   "metadata": {},
   "outputs": [],
   "source": [
    "\n"
   ]
  }
 ],
 "metadata": {
  "kernelspec": {
   "display_name": "Python 3",
   "language": "python",
   "name": "python3"
  },
  "language_info": {
   "codemirror_mode": {
    "name": "ipython",
    "version": 3
   },
   "file_extension": ".py",
   "mimetype": "text/x-python",
   "name": "python",
   "nbconvert_exporter": "python",
   "pygments_lexer": "ipython3",
   "version": "3.12.2"
  }
 },
 "nbformat": 4,
 "nbformat_minor": 2
}
