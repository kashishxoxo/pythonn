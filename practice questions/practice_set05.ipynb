{
 "cells": [
  {
   "cell_type": "markdown",
   "metadata": {},
   "source": [
    "Write a program to find the greatest of four numbers entered by the user\n"
   ]
  },
  {
   "cell_type": "code",
   "execution_count": 1,
   "metadata": {},
   "outputs": [
    {
     "name": "stdout",
     "output_type": "stream",
     "text": [
      "Num 4 is the largest number\n"
     ]
    }
   ],
   "source": [
    "num1 = int(input(\"Enter the number:\"))\n",
    "num2 = int(input(\"Enter the number:\"))\n",
    "num3 = int(input(\"Enter the number:\"))\n",
    "num4 = int(input(\"Enter the number:\"))\n",
    "if num1 > num2 and num1 > num3 and num1 > num4 :\n",
    "    print(\"This is the greatest number\")\n",
    "elif num2 > num1 and num2 > num3 and num2 > num4 :\n",
    "    print(\"This is the greatest number\")\n",
    "elif num3 > num1 and num3 > num2 and num3 > num4 :\n",
    "    print(\"This is the greatest number\")\n",
    "else:\n",
    "    print(\"Num 4 is the largest number\")"
   ]
  },
  {
   "cell_type": "markdown",
   "metadata": {},
   "source": [
    "Write a program to find out whether a student has passed or failed if it requires a\n",
    "total of 40% and at least 33% in each subject to pass. Assume 3 subjects and\n",
    "take marks as an input from the user."
   ]
  },
  {
   "cell_type": "code",
   "execution_count": null,
   "metadata": {},
   "outputs": [
    {
     "name": "stdout",
     "output_type": "stream",
     "text": [
      "You are pass\n"
     ]
    }
   ],
   "source": [
    "sub1 = int(input(\"Enter the marks ij subject : \"))\n",
    "sub2 = int(input(\"Enter the marks ij subject : \"))\n",
    "sub3 = int(input(\"Enter the marks ij subject : \"))\n",
    "total_percentage = (100*(sub1 + sub2 + sub3))/300\n",
    "if total_percentage >=40 and sub1 >= 33 and sub2 >=33 and sub3>= 33:\n",
    "    print(\"You are pass\")\n",
    "else:\n",
    "    print(\"You are fail\")"
   ]
  },
  {
   "cell_type": "markdown",
   "metadata": {},
   "source": [
    "A spam comment is defined as a text containing following keywords:\n",
    "“Make a lot of money”, “buy now”, “subscribe this”, “click this”. Write a program\n",
    "to detect these spams"
   ]
  },
  {
   "cell_type": "code",
   "execution_count": 4,
   "metadata": {},
   "outputs": [
    {
     "name": "stdout",
     "output_type": "stream",
     "text": [
      "This is a spam\n"
     ]
    }
   ],
   "source": [
    "s1 = \"Make a lot of money\"\n",
    "s2 = \"buy now\"\n",
    "s3 = \"subscribe this\"\n",
    "s4 = \"click this\"\n",
    "message = input(\"Enter your comment\")\n",
    "if s1 in message or s2 in message or s3 in message or s4 in message :\n",
    "    print(\"This is a spam\")\n",
    "else:\n",
    "    print(\"This is legit\")"
   ]
  },
  {
   "cell_type": "markdown",
   "metadata": {},
   "source": [
    "Write a program to find whether a given username contains less than 10\n",
    "characters or not."
   ]
  },
  {
   "cell_type": "code",
   "execution_count": 5,
   "metadata": {},
   "outputs": [
    {
     "name": "stdout",
     "output_type": "stream",
     "text": [
      "Not a valid username\n"
     ]
    }
   ],
   "source": [
    "username = input(\"Enter your username:\")\n",
    "if len(username) > 10:\n",
    "    print(\"This is a valid username\")\n",
    "else: \n",
    "    print(\"Not a valid username\")"
   ]
  },
  {
   "cell_type": "markdown",
   "metadata": {},
   "source": [
    "Write a program which finds out whether a given name is present in a list or not"
   ]
  },
  {
   "cell_type": "code",
   "execution_count": 6,
   "metadata": {},
   "outputs": [
    {
     "name": "stdout",
     "output_type": "stream",
     "text": [
      "The name is not in the list\n"
     ]
    }
   ],
   "source": [
    "list1 = [\"Kashish\" , \"Aryan\" , \"Bhramari\" , \"Somu\" , \"Ashutosh\"]\n",
    "name = input (\"Enter the name:\")\n",
    "if name in list1:\n",
    "    print(\"The name is in the list\")\n",
    "else:\n",
    "    print(\"The name is not in the list\")"
   ]
  },
  {
   "cell_type": "markdown",
   "metadata": {},
   "source": [
    "Write a program to calculate the grade of a student from his marks from the\n",
    "following scheme:\n",
    "90 – 100 => Ex\n",
    "80 – 90 => A\n",
    "70 – 80 => B\n",
    "60 – 70 =>C\n",
    "50 – 60 => D\n",
    "<50 => F"
   ]
  },
  {
   "cell_type": "code",
   "execution_count": 8,
   "metadata": {},
   "outputs": [
    {
     "name": "stdout",
     "output_type": "stream",
     "text": [
      "Grade A\n"
     ]
    }
   ],
   "source": [
    "marks = int(input(\"Enter the marks of the student:\"))\n",
    "if marks >= 90 and marks <= 100 :\n",
    "    print(\"Excellent\")\n",
    "elif marks >= 80 and marks <=90 :\n",
    "    print(\"Grade A\")\n",
    "elif marks >=70 and marks <= 80 :\n",
    "    print(\"Grade B\")\n",
    "elif marks >= 60 and marks <= 70 :\n",
    "    print(\"Grade C\")\n",
    "elif marks >=50 and marks <=60 :\n",
    "    print(\"Grade D\")\n",
    "else :\n",
    "    print(\"Fail\")"
   ]
  },
  {
   "cell_type": "markdown",
   "metadata": {},
   "source": [
    "Write a program to find out whether a given post is talking about “Harry” or not"
   ]
  },
  {
   "cell_type": "code",
   "execution_count": 10,
   "metadata": {},
   "outputs": [
    {
     "name": "stdout",
     "output_type": "stream",
     "text": [
      "Yes\n"
     ]
    }
   ],
   "source": [
    "post = input(\"Enter the post :\")\n",
    "if \"harry\" in post:\n",
    "    print(\"Yes\")\n",
    "else:\n",
    "    print(\"No\")"
   ]
  },
  {
   "cell_type": "code",
   "execution_count": null,
   "metadata": {},
   "outputs": [],
   "source": []
  }
 ],
 "metadata": {
  "kernelspec": {
   "display_name": "base",
   "language": "python",
   "name": "python3"
  },
  "language_info": {
   "codemirror_mode": {
    "name": "ipython",
    "version": 3
   },
   "file_extension": ".py",
   "mimetype": "text/x-python",
   "name": "python",
   "nbconvert_exporter": "python",
   "pygments_lexer": "ipython3",
   "version": "3.12.4"
  }
 },
 "nbformat": 4,
 "nbformat_minor": 2
}
