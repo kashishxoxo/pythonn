{
 "cells": [
  {
   "cell_type": "markdown",
   "metadata": {},
   "source": [
    "Write a program to create a dictionary of Hindi words with values as their English\n",
    "translation. Provide user with an option to look it up!"
   ]
  },
  {
   "cell_type": "code",
   "execution_count": 1,
   "metadata": {},
   "outputs": [
    {
     "name": "stdout",
     "output_type": "stream",
     "text": [
      "good\n"
     ]
    }
   ],
   "source": [
    "words = {\n",
    "    \"madad\": \"help\",\n",
    "    \"salam\": \"hello\",\n",
    "    \"khub\": \"good\"\n",
    "}\n",
    "word = input(\"Enter a word: \")\n",
    "print(words[word])"
   ]
  },
  {
   "cell_type": "markdown",
   "metadata": {},
   "source": [
    "Write a program to input eight numbers from the user and display all the unique\n",
    "numbers (once).\n"
   ]
  },
  {
   "cell_type": "markdown",
   "metadata": {},
   "source": []
  },
  {
   "cell_type": "code",
   "execution_count": 3,
   "metadata": {},
   "outputs": [
    {
     "name": "stdout",
     "output_type": "stream",
     "text": [
      "{34, 12, 78, 56, 90}\n"
     ]
    }
   ],
   "source": [
    "s = set()\n",
    "n = int(input(\"Enter number of elements: \"))\n",
    "s.add(n)\n",
    "n = int(input(\"Enter number of elements: \"))\n",
    "s.add(n)\n",
    "n = int(input(\"Enter number of elements: \"))\n",
    "s.add(n)\n",
    "n = int(input(\"Enter number of elements: \"))\n",
    "s.add(n)\n",
    "n = int(input(\"Enter number of elements: \"))\n",
    "s.add(n)\n",
    "n = int(input(\"Enter number of elements: \"))\n",
    "s.add(n)\n",
    "n = int(input(\"Enter number of elements: \"))\n",
    "s.add(n)\n",
    "n = int(input(\"Enter number of elements: \"))\n",
    "s.add(n)\n",
    "print(s)\n",
    "\n",
    "\n"
   ]
  },
  {
   "cell_type": "markdown",
   "metadata": {},
   "source": [
    "Can we have a set with 18 (int) and '18' (str) as a value in it?"
   ]
  },
  {
   "cell_type": "code",
   "execution_count": 4,
   "metadata": {},
   "outputs": [
    {
     "name": "stdout",
     "output_type": "stream",
     "text": [
      "(18, '18')\n"
     ]
    }
   ],
   "source": [
    "set1 = (18 , \"18\")\n",
    "print(set1)"
   ]
  },
  {
   "cell_type": "markdown",
   "metadata": {},
   "source": [
    "What will be the length of following set s:\n",
    "s = set()\n",
    "s.add(20)\n",
    "s.add(20.0)\n",
    "s.add('20')"
   ]
  },
  {
   "cell_type": "code",
   "execution_count": 5,
   "metadata": {},
   "outputs": [
    {
     "name": "stdout",
     "output_type": "stream",
     "text": [
      "2\n"
     ]
    }
   ],
   "source": [
    "s = set()\n",
    "s.add(20)\n",
    "s.add(20.0)\n",
    "s.add('20')\n",
    "print(len(s))"
   ]
  },
  {
   "cell_type": "markdown",
   "metadata": {},
   "source": [
    "Python follows type coercion (automatic type conversion) when comparing an int and a float. Here’s what happens:\n",
    "\n",
    "Type Conversion:\n",
    "\n",
    "The integer 20 is implicitly converted to a floating-point number 20.0 for comparison.\n",
    "\n",
    "Value Comparison:\n",
    "\n",
    "Since 20.0 (float) and 20 (int) have the same numeric value, Python considers them equal.\n",
    "\n"
   ]
  },
  {
   "cell_type": "markdown",
   "metadata": {},
   "source": [
    "s = {}\n",
    "What is the type of 's'?\n"
   ]
  },
  {
   "cell_type": "code",
   "execution_count": 6,
   "metadata": {},
   "outputs": [
    {
     "name": "stdout",
     "output_type": "stream",
     "text": [
      "<class 'dict'>\n"
     ]
    }
   ],
   "source": [
    "s = {}\n",
    "print(type(s))"
   ]
  },
  {
   "cell_type": "code",
   "execution_count": null,
   "metadata": {},
   "outputs": [],
   "source": []
  }
 ],
 "metadata": {
  "kernelspec": {
   "display_name": "Python 3",
   "language": "python",
   "name": "python3"
  },
  "language_info": {
   "codemirror_mode": {
    "name": "ipython",
    "version": 3
   },
   "file_extension": ".py",
   "mimetype": "text/x-python",
   "name": "python",
   "nbconvert_exporter": "python",
   "pygments_lexer": "ipython3",
   "version": "3.12.2"
  }
 },
 "nbformat": 4,
 "nbformat_minor": 2
}
