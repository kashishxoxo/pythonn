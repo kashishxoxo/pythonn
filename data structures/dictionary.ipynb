{
 "cells": [
  {
   "cell_type": "markdown",
   "metadata": {},
   "source": [
    "DICTIONARY\n",
    "- dictionary stores value in form of key - value pair"
   ]
  },
  {
   "cell_type": "code",
   "execution_count": null,
   "metadata": {},
   "outputs": [
    {
     "name": "stdout",
     "output_type": "stream",
     "text": [
      "{'name': 'kashish', 'age': 20, 'course': 'python', 'marks': 90} <class 'dict'>\n"
     ]
    }
   ],
   "source": [
    "student = {\n",
    "\"name\" : \"kashish\",\n",
    "\"age\" : 20,\n",
    "\"course\" : \"python\",\n",
    "\"marks\" : 90\n",
    "\n",
    "}\n",
    "print(student , type(student))"
   ]
  },
  {
   "cell_type": "code",
   "execution_count": 42,
   "metadata": {},
   "outputs": [
    {
     "name": "stdout",
     "output_type": "stream",
     "text": [
      "{'name': 'kashish', 'age': 20, 'course': 'python', 'marks': 90, 0: 'zero'}\n"
     ]
    }
   ],
   "source": [
    "student = {\n",
    "\"name\" : \"kashish\",\n",
    "\"age\" : 20,\n",
    "\"course\" : \"python\",\n",
    "\"marks\": 90,\n",
    "\"name\" : \"kashish\",\n",
    "0 : \"zero\"\n",
    "\n",
    "}\n",
    "print(student)"
   ]
  },
  {
   "cell_type": "markdown",
   "metadata": {},
   "source": [
    "Dictionary is \n",
    "- mutable\n",
    "- unordered\n",
    "- indexed\n",
    "- do not allow duplicate keys\n"
   ]
  },
  {
   "cell_type": "markdown",
   "metadata": {},
   "source": [
    "Methods\n",
    " - item method\n",
    " - key method\n",
    " - values method\n",
    " - update method\n",
    " - get method"
   ]
  },
  {
   "cell_type": "code",
   "execution_count": 19,
   "metadata": {},
   "outputs": [
    {
     "data": {
      "text/plain": [
       "dict_items([('name', 'kashish'), ('age', 20), ('course', 'python'), ('marks', 90), (0, 'zero')])"
      ]
     },
     "execution_count": 19,
     "metadata": {},
     "output_type": "execute_result"
    }
   ],
   "source": [
    "student.items()"
   ]
  },
  {
   "cell_type": "code",
   "execution_count": 20,
   "metadata": {},
   "outputs": [
    {
     "data": {
      "text/plain": [
       "dict_keys(['name', 'age', 'course', 'marks', 0])"
      ]
     },
     "execution_count": 20,
     "metadata": {},
     "output_type": "execute_result"
    }
   ],
   "source": [
    "student.keys()"
   ]
  },
  {
   "cell_type": "code",
   "execution_count": 21,
   "metadata": {},
   "outputs": [
    {
     "data": {
      "text/plain": [
       "dict_values(['kashish', 20, 'python', 90, 'zero'])"
      ]
     },
     "execution_count": 21,
     "metadata": {},
     "output_type": "execute_result"
    }
   ],
   "source": [
    "student.values()"
   ]
  },
  {
   "cell_type": "code",
   "execution_count": 25,
   "metadata": {},
   "outputs": [
    {
     "name": "stdout",
     "output_type": "stream",
     "text": [
      "{'name': 'kashish', 'age': 20, 'course': 'python', 'marks': 23, 0: 'zero', 'name2': 'siddhartha'}\n"
     ]
    }
   ],
   "source": [
    "student.update({\"marks\" : 23, \"name2\" : \"siddhartha\"})\n",
    "print(student)"
   ]
  },
  {
   "cell_type": "code",
   "execution_count": null,
   "metadata": {},
   "outputs": [
    {
     "name": "stdout",
     "output_type": "stream",
     "text": [
      "None\n"
     ]
    }
   ],
   "source": [
    "\n",
    "print(student.get(\"marks2\")) #Prints None\n",
    "print(student[\"marks2\"]) #Throws an error\n"
   ]
  },
  {
   "cell_type": "code",
   "execution_count": null,
   "metadata": {},
   "outputs": [],
   "source": []
  },
  {
   "cell_type": "markdown",
   "metadata": {},
   "source": [
    "- how to declare dictionary\n",
    "- how to access key and values\n",
    "- how to use loops in dictionary\n",
    "- indexing in dictionary\n"
   ]
  },
  {
   "cell_type": "code",
   "execution_count": 3,
   "metadata": {},
   "outputs": [
    {
     "name": "stdout",
     "output_type": "stream",
     "text": [
      "{'name': 'john', 'age': '25', 'course': 'python', 'marks': 70}\n"
     ]
    }
   ],
   "source": [
    "info = dict(name = \"john\", age = \"25\", course = \"python\" , marks = 70)\n",
    "print(info)"
   ]
  },
  {
   "cell_type": "code",
   "execution_count": 5,
   "metadata": {},
   "outputs": [
    {
     "name": "stdout",
     "output_type": "stream",
     "text": [
      "john\n"
     ]
    }
   ],
   "source": [
    "info = dict(name = \"john\", age = \"25\", course = \"python\" , marks = 70)\n",
    "print(info[\"name\"])"
   ]
  },
  {
   "cell_type": "markdown",
   "metadata": {},
   "source": [
    "Taking input"
   ]
  },
  {
   "cell_type": "code",
   "execution_count": 8,
   "metadata": {},
   "outputs": [
    {
     "name": "stdout",
     "output_type": "stream",
     "text": [
      "{'name': 'kashish', 'age': '23', 'course': 'python', 'marks': '58'}\n"
     ]
    }
   ],
   "source": [
    "info = dict(name = input(\"enter your name :\") ,age = input(\"enter your age :\" ) ,course = input(\"enter your course :\") ,marks = input(\"enter your marks :\" ))\n",
    "print(info)"
   ]
  },
  {
   "cell_type": "code",
   "execution_count": 29,
   "metadata": {},
   "outputs": [
    {
     "name": "stdout",
     "output_type": "stream",
     "text": [
      "{'lucknow': [22, 32, 44], 'delhi': [32, 67, 14]}\n"
     ]
    }
   ],
   "source": [
    "temp = {\n",
    "    \"lucknow\" : [22 ,32, 44],\n",
    "    \"delhi\" : [32,67,14],\n",
    "}\n",
    "print(temp) \n"
   ]
  },
  {
   "cell_type": "code",
   "execution_count": 15,
   "metadata": {},
   "outputs": [
    {
     "name": "stdout",
     "output_type": "stream",
     "text": [
      "python\n"
     ]
    }
   ],
   "source": [
    "#2nd method to access values through keys\n",
    "print(student.get(\"course\"))"
   ]
  },
  {
   "cell_type": "code",
   "execution_count": 17,
   "metadata": {},
   "outputs": [
    {
     "name": "stdout",
     "output_type": "stream",
     "text": [
      "{'name': 'kashish', 'age': 20, 'course': 'python', 'marks': 90, 'city': 'lucknow'}\n"
     ]
    }
   ],
   "source": [
    "#to add item (key - value pair) in dictionary\n",
    "student['city'] = 'lucknow'\n",
    "print(student)"
   ]
  },
  {
   "cell_type": "code",
   "execution_count": 21,
   "metadata": {},
   "outputs": [
    {
     "name": "stdout",
     "output_type": "stream",
     "text": [
      "dict_keys(['name', 'age', 'course', 'marks', 'city'])\n",
      "dict_values(['kashish', 20, 'python', 90, 'lucknow'])\n",
      "dict_items([('name', 'kashish'), ('age', 20), ('course', 'python'), ('marks', 90), ('city', 'lucknow')])\n"
     ]
    }
   ],
   "source": [
    "print(student.keys())\n",
    "print(student.values())\n",
    "print(student.items())"
   ]
  },
  {
   "cell_type": "code",
   "execution_count": 28,
   "metadata": {},
   "outputs": [
    {
     "name": "stdout",
     "output_type": "stream",
     "text": [
      "name : kashish\n",
      "age : 20\n",
      "course : python\n",
      "marks : 90\n",
      "city : lucknow\n"
     ]
    }
   ],
   "source": [
    "for k,v in student.items():\n",
    " print(f\"{k} : {v}\")"
   ]
  },
  {
   "cell_type": "code",
   "execution_count": 32,
   "metadata": {},
   "outputs": [
    {
     "name": "stdout",
     "output_type": "stream",
     "text": [
      "{'emp001': {'name': 'John', 'age': 25, 'salary': 5000}, 'emp002': {'name': 'Alice', 'age': 30, 'salary': 6000}, 'emp003': {'name': 'Bob', 'age': 35, 'salary': 7000}}\n"
     ]
    }
   ],
   "source": [
    "company = {\n",
    "    'emp001' : {\n",
    "        'name' : 'John',\n",
    "        'age' : 25,\n",
    "        'salary' : 5000\n",
    "    },\n",
    "    'emp002' : {\n",
    "        'name' : 'Alice',\n",
    "        'age' : 30,\n",
    "        'salary' : 6000\n",
    "    },\n",
    "    'emp003' : {\n",
    "        'name' : 'Bob',\n",
    "        'age' : 35,\n",
    "        'salary' : 7000\n",
    "    }\n",
    "        \n",
    "}\n",
    "print(company)"
   ]
  },
  {
   "cell_type": "code",
   "execution_count": 33,
   "metadata": {},
   "outputs": [],
   "source": [
    "from pprint import pprint"
   ]
  },
  {
   "cell_type": "code",
   "execution_count": 34,
   "metadata": {},
   "outputs": [
    {
     "name": "stdout",
     "output_type": "stream",
     "text": [
      "{'emp001': {'age': 25, 'name': 'John', 'salary': 5000},\n",
      " 'emp002': {'age': 30, 'name': 'Alice', 'salary': 6000},\n",
      " 'emp003': {'age': 35, 'name': 'Bob', 'salary': 7000}}\n"
     ]
    }
   ],
   "source": [
    "pprint(company)"
   ]
  },
  {
   "cell_type": "code",
   "execution_count": 35,
   "metadata": {},
   "outputs": [
    {
     "name": "stdout",
     "output_type": "stream",
     "text": [
      "30\n"
     ]
    }
   ],
   "source": [
    "print(company['emp002']['age'])"
   ]
  },
  {
   "cell_type": "code",
   "execution_count": 38,
   "metadata": {},
   "outputs": [
    {
     "name": "stdout",
     "output_type": "stream",
     "text": [
      "32.666666666666664\n"
     ]
    }
   ],
   "source": [
    "print(sum(temp ['lucknow'])/len(temp['lucknow']))\n"
   ]
  },
  {
   "cell_type": "markdown",
   "metadata": {},
   "source": [
    "D = {}\n",
    "- this is an emplt dictionary\n",
    "S = set()\n",
    "- this is an empty set"
   ]
  },
  {
   "cell_type": "markdown",
   "metadata": {},
   "source": [
    "SETS\n",
    "- Do not allow repeated values\n",
    "- are unordered\n"
   ]
  },
  {
   "cell_type": "code",
   "execution_count": 39,
   "metadata": {},
   "outputs": [
    {
     "name": "stdout",
     "output_type": "stream",
     "text": [
      "set() <class 'set'>\n"
     ]
    }
   ],
   "source": [
    "s = set()\n",
    "print(s , type(s))"
   ]
  },
  {
   "cell_type": "code",
   "execution_count": 45,
   "metadata": {},
   "outputs": [
    {
     "name": "stdout",
     "output_type": "stream",
     "text": [
      "{1, 2, 3, 4, 5, 6, 7, 8, 9, 10, 'kashish'}\n"
     ]
    }
   ],
   "source": [
    "set1 = {1,2,3,4,5,6,7,8,9,10,10,10,10,10 ,\"kashish\"}\n",
    "print(set1)"
   ]
  },
  {
   "cell_type": "markdown",
   "metadata": {},
   "source": [
    "Methods\n",
    "- add method\n",
    "- remove method\n",
    "- pop method\n",
    "- union method\n",
    "- intersection method"
   ]
  },
  {
   "cell_type": "code",
   "execution_count": 48,
   "metadata": {},
   "outputs": [
    {
     "name": "stdout",
     "output_type": "stream",
     "text": [
      "{1, 2, 3, 4, 5, 6, 7, 8, 9, 10, 'kashish', 11}\n"
     ]
    }
   ],
   "source": [
    "set1.add(11)\n",
    "print(set1)"
   ]
  },
  {
   "cell_type": "code",
   "execution_count": 49,
   "metadata": {},
   "outputs": [
    {
     "name": "stdout",
     "output_type": "stream",
     "text": [
      "{1, 2, 3, 4, 5, 6, 7, 8, 9, 'kashish', 11}\n"
     ]
    }
   ],
   "source": [
    "set1.remove(10)\n",
    "print(set1)"
   ]
  },
  {
   "cell_type": "code",
   "execution_count": 50,
   "metadata": {},
   "outputs": [
    {
     "name": "stdout",
     "output_type": "stream",
     "text": [
      "{2, 3, 4, 5, 6, 7, 8, 9, 'kashish', 11}\n"
     ]
    }
   ],
   "source": [
    "set1.pop()\n",
    "print(set1)"
   ]
  },
  {
   "cell_type": "code",
   "execution_count": 51,
   "metadata": {},
   "outputs": [
    {
     "name": "stdout",
     "output_type": "stream",
     "text": [
      "{1, 2, 3, 4, 5, 6, 7, 8, 9}\n"
     ]
    }
   ],
   "source": [
    "s1 = {1,2,3,4,5,6}\n",
    "s2 = {4,5,6,7,8,9}\n",
    "print(s1.union(s2))\n"
   ]
  },
  {
   "cell_type": "code",
   "execution_count": 52,
   "metadata": {},
   "outputs": [
    {
     "name": "stdout",
     "output_type": "stream",
     "text": [
      "{4, 5, 6}\n"
     ]
    }
   ],
   "source": [
    "print(s1.intersection(s2))"
   ]
  },
  {
   "cell_type": "code",
   "execution_count": null,
   "metadata": {},
   "outputs": [],
   "source": [
    "\"editor.autoClosingBrackets\": \"false\",\n",
    "\"editor.suggestOnTriggerCharacters\": \"false\""
   ]
  }
 ],
 "metadata": {
  "kernelspec": {
   "display_name": "Python 3",
   "language": "python",
   "name": "python3"
  },
  "language_info": {
   "codemirror_mode": {
    "name": "ipython",
    "version": 3
   },
   "file_extension": ".py",
   "mimetype": "text/x-python",
   "name": "python",
   "nbconvert_exporter": "python",
   "pygments_lexer": "ipython3",
   "version": "3.12.2"
  }
 },
 "nbformat": 4,
 "nbformat_minor": 2
}
