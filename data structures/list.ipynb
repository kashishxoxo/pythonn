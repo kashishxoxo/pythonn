{
 "cells": [
  {
   "cell_type": "markdown",
   "metadata": {},
   "source": [
    "LISTS \n",
    "- stores the value of any data types\n",
    "- lists are mutable\n",
    "- it makes the changes in the original list"
   ]
  },
  {
   "cell_type": "code",
   "execution_count": 4,
   "metadata": {},
   "outputs": [
    {
     "name": "stdout",
     "output_type": "stream",
     "text": [
      "[' Kashish', 'Vaibhav', 7, False]\n",
      "['Siddhartha', 'Vaibhav', 7, False]\n"
     ]
    }
   ],
   "source": [
    "list1 = [\" Kashish\" , \"Vaibhav\" , 7 , False]\n",
    "print(list1)\n",
    "list1[0] = \"Siddhartha\"\n",
    "print(list1)"
   ]
  },
  {
   "cell_type": "code",
   "execution_count": 5,
   "metadata": {},
   "outputs": [
    {
     "name": "stdout",
     "output_type": "stream",
     "text": [
      "['drive', 'photos', 'maps', 'instagram', 'snapchat', 'chrome', 'swiggy', 'zomato', 'X', 'uber']\n"
     ]
    }
   ],
   "source": [
    "apps = ['drive' , 'photos' , 'maps' , 'instagram' ,'snapchat' ,'chrome' ,'swiggy' ,'zomato' ,'X' , 'uber']\n",
    "print (apps)"
   ]
  },
  {
   "cell_type": "markdown",
   "metadata": {},
   "source": [
    "INDEXING & SLICING\n",
    "\n"
   ]
  },
  {
   "cell_type": "code",
   "execution_count": 6,
   "metadata": {},
   "outputs": [
    {
     "name": "stdout",
     "output_type": "stream",
     "text": [
      "['drive', 'photos', 'maps', 'instagram', 'snapchat']\n"
     ]
    }
   ],
   "source": [
    "apps = ['drive' , 'photos' , 'maps' , 'instagram' ,'snapchat' ,'chrome' ,'swiggy' ,'zomato' ,'X' , 'uber']\n",
    "print(apps[0:5])"
   ]
  },
  {
   "cell_type": "markdown",
   "metadata": {},
   "source": [
    "LIST METHODS\n",
    "\n",
    "- append - to add elemnt at the end of the list\n",
    "- insert - to add element at the specific position\n",
    "- remove - to remove element from the list\n",
    "- clear - to remove all elements from the list\n",
    "- pop - to remove the last element from the list\n",
    "- index - to get the index of the element\n",
    "- sort  - to arrange the items in a particular order\n",
    "- clear - to delete all the elements of the list but not the list\n",
    "- extend - to add multiple elements to the list\n",
    "- copy - to make a copy of the list\n"
   ]
  },
  {
   "cell_type": "code",
   "execution_count": 7,
   "metadata": {},
   "outputs": [
    {
     "name": "stdout",
     "output_type": "stream",
     "text": [
      "['drive', 'photos', 'maps', 'instagram', 'snapchat', 'chrome', 'swiggy', 'zomato', 'X', 'uber', 'facebook']\n"
     ]
    }
   ],
   "source": [
    "apps.append(\"facebook\")\n",
    "print(apps)"
   ]
  },
  {
   "cell_type": "code",
   "execution_count": 8,
   "metadata": {},
   "outputs": [
    {
     "name": "stdout",
     "output_type": "stream",
     "text": [
      "['drive', 'photos', 'gmail', 'maps', 'instagram', 'snapchat', 'chrome', 'swiggy', 'zomato', 'X', 'uber', 'facebook']\n"
     ]
    }
   ],
   "source": [
    "apps.insert(2,\"gmail\")\n",
    "print(apps)\n"
   ]
  },
  {
   "cell_type": "code",
   "execution_count": 9,
   "metadata": {},
   "outputs": [
    {
     "name": "stdout",
     "output_type": "stream",
     "text": [
      "['drive', 'photos', 'gmail', 'maps', 'instagram', 'snapchat', 'chrome', 'swiggy', 'zomato', 'X', 'uber', 'facebook']\n"
     ]
    }
   ],
   "source": [
    "a = apps.copy()\n",
    "print(a)"
   ]
  },
  {
   "cell_type": "code",
   "execution_count": 10,
   "metadata": {},
   "outputs": [
    {
     "name": "stdout",
     "output_type": "stream",
     "text": [
      "['drive', 'photos', 'gmail', 'maps', 'instagram', 'snapchat', 'chrome', 'swiggy', 'zomato', 'X', 'uber']\n"
     ]
    }
   ],
   "source": [
    "a.remove(\"facebook\")\n",
    "print(a)"
   ]
  },
  {
   "cell_type": "code",
   "execution_count": 22,
   "metadata": {},
   "outputs": [
    {
     "name": "stdout",
     "output_type": "stream",
     "text": [
      "4\n",
      "[7, 6, 5, 3, 2, 1, 0]\n"
     ]
    }
   ],
   "source": [
    "print(a.pop(3))\n",
    "print(a)"
   ]
  },
  {
   "cell_type": "code",
   "execution_count": 12,
   "metadata": {},
   "outputs": [
    {
     "data": {
      "text/plain": [
       "4"
      ]
     },
     "execution_count": 12,
     "metadata": {},
     "output_type": "execute_result"
    }
   ],
   "source": [
    "apps.index(\"instagram\")"
   ]
  },
  {
   "cell_type": "code",
   "execution_count": 21,
   "metadata": {},
   "outputs": [
    {
     "name": "stdout",
     "output_type": "stream",
     "text": [
      "[0, 1, 2, 3, 4, 5, 6, 7]\n",
      "[7, 6, 5, 4, 3, 2, 1, 0]\n"
     ]
    }
   ],
   "source": [
    "a = [7 ,0,4,2,5,6,1,3]\n",
    "a.sort()\n",
    "print(a)\n",
    "a.reverse()\n",
    "print(a)"
   ]
  },
  {
   "cell_type": "code",
   "execution_count": 14,
   "metadata": {},
   "outputs": [
    {
     "name": "stdout",
     "output_type": "stream",
     "text": [
      "['blinkit', 'linkdln']\n"
     ]
    }
   ],
   "source": [
    "apps2 = [\"blinkit\" , \"linkdln\"]\n",
    "print(apps2)"
   ]
  },
  {
   "cell_type": "code",
   "execution_count": 15,
   "metadata": {},
   "outputs": [
    {
     "name": "stdout",
     "output_type": "stream",
     "text": [
      "['drive', 'photos', 'gmail', 'maps', 'instagram', 'snapchat', 'chrome', 'swiggy', 'zomato', 'X', 'uber', 'facebook', 'blinkit', 'linkdln']\n"
     ]
    }
   ],
   "source": [
    "apps2 = [\"blinkit\" , \"linkdln\"]\n",
    "apps.extend(apps2)\n",
    "print(apps)"
   ]
  },
  {
   "cell_type": "code",
   "execution_count": 16,
   "metadata": {},
   "outputs": [
    {
     "name": "stdout",
     "output_type": "stream",
     "text": [
      "['blinkit', 'linkdln', 'drive', 'photos', 'gmail', 'maps', 'instagram', 'snapchat', 'chrome', 'swiggy', 'zomato', 'X', 'uber', 'facebook', 'blinkit', 'linkdln']\n"
     ]
    }
   ],
   "source": [
    "apps2.extend(apps)\n",
    "print(apps2)"
   ]
  },
  {
   "cell_type": "code",
   "execution_count": 17,
   "metadata": {},
   "outputs": [
    {
     "name": "stdout",
     "output_type": "stream",
     "text": [
      "[]\n"
     ]
    }
   ],
   "source": [
    "a.clear()\n",
    "print(a)"
   ]
  },
  {
   "cell_type": "code",
   "execution_count": null,
   "metadata": {},
   "outputs": [],
   "source": []
  }
 ],
 "metadata": {
  "kernelspec": {
   "display_name": "Python 3",
   "language": "python",
   "name": "python3"
  },
  "language_info": {
   "codemirror_mode": {
    "name": "ipython",
    "version": 3
   },
   "file_extension": ".py",
   "mimetype": "text/x-python",
   "name": "python",
   "nbconvert_exporter": "python",
   "pygments_lexer": "ipython3",
   "version": "3.12.2"
  }
 },
 "nbformat": 4,
 "nbformat_minor": 2
}
