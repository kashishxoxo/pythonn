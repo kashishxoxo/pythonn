{
 "cells": [
  {
   "cell_type": "code",
   "execution_count": 32,
   "metadata": {},
   "outputs": [
    {
     "name": "stdout",
     "output_type": "stream",
     "text": [
      "['drive', 'photos', 'maps', 'instagram', 'snapchat', 'chrome', 'swiggy', 'zomato', 'X', 'uber']\n"
     ]
    }
   ],
   "source": [
    "apps = ['drive' , 'photos' , 'maps' , 'instagram' ,'snapchat' ,'chrome' ,'swiggy' ,'zomato' ,'X' , 'uber']\n",
    "print (apps)"
   ]
  },
  {
   "cell_type": "markdown",
   "metadata": {},
   "source": [
    "INDEXING & SLICING\n",
    "\n"
   ]
  },
  {
   "cell_type": "code",
   "execution_count": 33,
   "metadata": {},
   "outputs": [
    {
     "name": "stdout",
     "output_type": "stream",
     "text": [
      "['drive', 'photos', 'maps', 'instagram', 'snapchat', 'chrome', 'swiggy', 'zomato', 'X']\n"
     ]
    }
   ],
   "source": [
    "apps = ['drive' , 'photos' , 'maps' , 'instagram' ,'snapchat' ,'chrome' ,'swiggy' ,'zomato' ,'X' , 'uber']\n",
    "print(apps[-10:-1])"
   ]
  },
  {
   "cell_type": "markdown",
   "metadata": {},
   "source": [
    "List Mehods\n",
    "\n",
    "- append - to add elemnt at the end of the list\n",
    "- insert - to add element at the specific position\n",
    "- remove - to remove element from the list\n",
    "- clear - to remove all elements from the list\n",
    "- pop - to remove the last element from the list\n",
    "- index - to get the index of the element\n",
    "- sort  - to arrange the items in a particular order\n",
    "- clear - to delete all the elements of the list but not the list\n",
    "- extend - to add multiple elements to the list\n",
    "- copy - to make a copy of the list\n"
   ]
  },
  {
   "cell_type": "code",
   "execution_count": 34,
   "metadata": {},
   "outputs": [
    {
     "name": "stdout",
     "output_type": "stream",
     "text": [
      "['drive', 'photos', 'maps', 'instagram', 'snapchat', 'chrome', 'swiggy', 'zomato', 'X', 'uber', 'facebook']\n"
     ]
    }
   ],
   "source": [
    "apps.append(\"facebook\")\n",
    "print(apps)"
   ]
  },
  {
   "cell_type": "code",
   "execution_count": 35,
   "metadata": {},
   "outputs": [
    {
     "name": "stdout",
     "output_type": "stream",
     "text": [
      "['drive', 'photos', 'gmail', 'maps', 'instagram', 'snapchat', 'chrome', 'swiggy', 'zomato', 'X', 'uber', 'facebook']\n"
     ]
    }
   ],
   "source": [
    "apps.insert(2,\"gmail\")\n",
    "print(apps)\n"
   ]
  },
  {
   "cell_type": "code",
   "execution_count": 37,
   "metadata": {},
   "outputs": [
    {
     "name": "stdout",
     "output_type": "stream",
     "text": [
      "['drive', 'photos', 'gmail', 'maps', 'instagram', 'snapchat', 'chrome', 'swiggy', 'zomato', 'X', 'uber', 'facebook']\n"
     ]
    }
   ],
   "source": [
    "a = apps.copy()\n",
    "print(a)"
   ]
  },
  {
   "cell_type": "code",
   "execution_count": 41,
   "metadata": {},
   "outputs": [
    {
     "name": "stdout",
     "output_type": "stream",
     "text": [
      "['drive', 'photos', 'gmail', 'maps', 'instagram', 'snapchat', 'chrome', 'swiggy', 'zomato', 'X', 'uber']\n"
     ]
    }
   ],
   "source": [
    "a.remove(\"facebook\")\n",
    "print(a)"
   ]
  },
  {
   "cell_type": "code",
   "execution_count": 42,
   "metadata": {},
   "outputs": [
    {
     "name": "stdout",
     "output_type": "stream",
     "text": [
      "['drive', 'photos', 'gmail', 'instagram', 'snapchat', 'chrome', 'swiggy', 'zomato', 'X', 'uber']\n"
     ]
    }
   ],
   "source": [
    "a.pop(3)\n",
    "print(a)"
   ]
  },
  {
   "cell_type": "code",
   "execution_count": 43,
   "metadata": {},
   "outputs": [
    {
     "data": {
      "text/plain": [
       "4"
      ]
     },
     "execution_count": 43,
     "metadata": {},
     "output_type": "execute_result"
    }
   ],
   "source": [
    "apps.index(\"instagram\")"
   ]
  },
  {
   "cell_type": "code",
   "execution_count": 45,
   "metadata": {},
   "outputs": [
    {
     "name": "stdout",
     "output_type": "stream",
     "text": [
      "['X', 'chrome', 'drive', 'gmail', 'instagram', 'photos', 'snapchat', 'swiggy', 'uber', 'zomato']\n"
     ]
    }
   ],
   "source": [
    "a.sort()\n",
    "print(a)"
   ]
  },
  {
   "cell_type": "code",
   "execution_count": 46,
   "metadata": {},
   "outputs": [
    {
     "name": "stdout",
     "output_type": "stream",
     "text": [
      "['blinkit', 'linkdln']\n"
     ]
    }
   ],
   "source": [
    "apps2 = [\"blinkit\" , \"linkdln\"]\n",
    "print(apps2)"
   ]
  },
  {
   "cell_type": "code",
   "execution_count": 47,
   "metadata": {},
   "outputs": [
    {
     "name": "stdout",
     "output_type": "stream",
     "text": [
      "['drive', 'photos', 'gmail', 'maps', 'instagram', 'snapchat', 'chrome', 'swiggy', 'zomato', 'X', 'uber', 'facebook', 'blinkit', 'linkdln']\n"
     ]
    }
   ],
   "source": [
    "apps2 = [\"blinkit\" , \"linkdln\"]\n",
    "apps.extend(apps2)\n",
    "print(apps)"
   ]
  },
  {
   "cell_type": "code",
   "execution_count": 49,
   "metadata": {},
   "outputs": [
    {
     "name": "stdout",
     "output_type": "stream",
     "text": [
      "['blinkit', 'linkdln', 'drive', 'photos', 'gmail', 'maps', 'instagram', 'snapchat', 'chrome', 'swiggy', 'zomato', 'X', 'uber', 'facebook', 'blinkit', 'linkdln', 'drive', 'photos', 'gmail', 'maps', 'instagram', 'snapchat', 'chrome', 'swiggy', 'zomato', 'X', 'uber', 'facebook', 'blinkit', 'linkdln']\n"
     ]
    }
   ],
   "source": [
    "apps2.extend(apps)\n",
    "print(apps2)"
   ]
  },
  {
   "cell_type": "code",
   "execution_count": 51,
   "metadata": {},
   "outputs": [
    {
     "name": "stdout",
     "output_type": "stream",
     "text": [
      "[]\n"
     ]
    }
   ],
   "source": [
    "a.clear()\n",
    "print(a)"
   ]
  },
  {
   "cell_type": "code",
   "execution_count": null,
   "metadata": {},
   "outputs": [],
   "source": []
  }
 ],
 "metadata": {
  "kernelspec": {
   "display_name": "Python 3",
   "language": "python",
   "name": "python3"
  },
  "language_info": {
   "codemirror_mode": {
    "name": "ipython",
    "version": 3
   },
   "file_extension": ".py",
   "mimetype": "text/x-python",
   "name": "python",
   "nbconvert_exporter": "python",
   "pygments_lexer": "ipython3",
   "version": "3.12.2"
  }
 },
 "nbformat": 4,
 "nbformat_minor": 2
}
